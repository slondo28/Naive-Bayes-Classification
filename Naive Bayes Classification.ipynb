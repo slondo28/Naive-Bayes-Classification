{
 "cells": [
  {
   "cell_type": "markdown",
   "metadata": {},
   "source": [
    "Utilizar el dataset kddcup99 para hacer la predicción del Target (descartando las columnas 1,2,3 que son categóricas ) con el kNN. Tomar el tiempo de ejecución. \n",
    "Utilizar train_test_split al 30%\n",
    "Para utilizar el dataset desde sklearn ejecutamos las siguientes líneas: \n",
    "from sklearn import datasets\n",
    "data, target = datasets.fetch_kddcup99(return_X_y=True)\n",
    "Para medir el tiempo de ejecución hay que agregar en la celda de entrenamiento lo siguiente:\n",
    "%%time"
   ]
  },
  {
   "cell_type": "code",
   "execution_count": 1,
   "metadata": {},
   "outputs": [],
   "source": [
    "import numpy as np\n",
    "import pandas as pd\n",
    "import matplotlib.pyplot as plt\n",
    "from sklearn.model_selection import train_test_split\n",
    "from sklearn import neighbors\n",
    "from sklearn import datasets\n",
    "from sklearn.metrics import jaccard_score\n",
    "from sklearn.metrics import accuracy_score\n",
    "from sklearn.metrics import precision_score\n",
    "from sklearn.metrics import recall_score\n",
    "from sklearn.metrics import f1_score\n",
    "from sklearn.metrics import confusion_matrix\n",
    "from sklearn.metrics import plot_confusion_matrix\n",
    "from sklearn.metrics import roc_curve\n",
    "from sklearn.metrics import auc\n",
    "from sklearn.metrics import classification_report\n",
    "from sklearn.model_selection import cross_val_score\n",
    "from sklearn.metrics import make_scorer"
   ]
  },
  {
   "cell_type": "code",
   "execution_count": 2,
   "metadata": {},
   "outputs": [],
   "source": [
    "import time"
   ]
  },
  {
   "cell_type": "code",
   "execution_count": 4,
   "metadata": {},
   "outputs": [],
   "source": [
    "from sklearn import datasets\n",
    "data, target = datasets.fetch_kddcup99(return_X_y=True)"
   ]
  },
  {
   "cell_type": "code",
   "execution_count": null,
   "metadata": {},
   "outputs": [],
   "source": []
  },
  {
   "cell_type": "code",
   "execution_count": 5,
   "metadata": {},
   "outputs": [],
   "source": [
    "df_x=pd.DataFrame(data)"
   ]
  },
  {
   "cell_type": "code",
   "execution_count": 6,
   "metadata": {},
   "outputs": [],
   "source": [
    "df_x.drop([1,2,3], axis = 'columns', inplace=True)"
   ]
  },
  {
   "cell_type": "code",
   "execution_count": 8,
   "metadata": {},
   "outputs": [],
   "source": [
    "X=df_x.values"
   ]
  },
  {
   "cell_type": "code",
   "execution_count": 9,
   "metadata": {},
   "outputs": [],
   "source": [
    "df_y=pd.DataFrame(target)"
   ]
  },
  {
   "cell_type": "code",
   "execution_count": 10,
   "metadata": {},
   "outputs": [
    {
     "data": {
      "text/plain": [
       "array([b'normal.', b'buffer_overflow.', b'loadmodule.', b'perl.',\n",
       "       b'neptune.', b'smurf.', b'guess_passwd.', b'pod.', b'teardrop.',\n",
       "       b'portsweep.', b'ipsweep.', b'land.', b'ftp_write.', b'back.',\n",
       "       b'imap.', b'satan.', b'phf.', b'nmap.', b'multihop.',\n",
       "       b'warezmaster.', b'warezclient.', b'spy.', b'rootkit.'],\n",
       "      dtype=object)"
      ]
     },
     "execution_count": 10,
     "metadata": {},
     "output_type": "execute_result"
    }
   ],
   "source": [
    "df_y[0].unique()"
   ]
  },
  {
   "cell_type": "code",
   "execution_count": 11,
   "metadata": {},
   "outputs": [
    {
     "data": {
      "text/plain": [
       "array([11, 11, 11, ..., 11, 11, 11])"
      ]
     },
     "execution_count": 11,
     "metadata": {},
     "output_type": "execute_result"
    }
   ],
   "source": [
    "from sklearn.preprocessing import LabelEncoder\n",
    "class_labelEncoding = LabelEncoder()\n",
    "clase = class_labelEncoding.fit_transform(target)\n",
    "clase"
   ]
  },
  {
   "cell_type": "code",
   "execution_count": 13,
   "metadata": {},
   "outputs": [],
   "source": [
    "y=clase"
   ]
  },
  {
   "cell_type": "code",
   "execution_count": 14,
   "metadata": {},
   "outputs": [
    {
     "name": "stdout",
     "output_type": "stream",
     "text": [
      "Train set: (345814, 38) (345814,)\n",
      "Test set: (148207, 38) (148207,)\n"
     ]
    }
   ],
   "source": [
    "X_train, X_test, y_train, y_test = train_test_split( X, y, test_size=0.3)\n",
    "print ('Train set:', X_train.shape,  y_train.shape)\n",
    "print ('Test set:', X_test.shape,  y_test.shape)"
   ]
  },
  {
   "cell_type": "code",
   "execution_count": 15,
   "metadata": {},
   "outputs": [
    {
     "name": "stdout",
     "output_type": "stream",
     "text": [
      "Wall time: 12min 45s\n"
     ]
    }
   ],
   "source": [
    "%%time\n",
    "clasificador = neighbors.KNeighborsClassifier(3)\n",
    "clasificador.fit(X_train, y_train)\n",
    "yhat = clasificador.predict(X_test)"
   ]
  },
  {
   "cell_type": "code",
   "execution_count": 13,
   "metadata": {},
   "outputs": [
    {
     "name": "stdout",
     "output_type": "stream",
     "text": [
      "Accuracy:  0.9985290843212534\n"
     ]
    }
   ],
   "source": [
    "print(\"Accuracy: \", accuracy_score(y_test, yhat))"
   ]
  },
  {
   "cell_type": "code",
   "execution_count": 16,
   "metadata": {},
   "outputs": [
    {
     "name": "stdout",
     "output_type": "stream",
     "text": [
      "Accuracy:  0.9332892508451018\n",
      "Wall time: 4.54 s\n"
     ]
    }
   ],
   "source": [
    "%%time\n",
    "from sklearn.naive_bayes import GaussianNB\n",
    "gnb = GaussianNB()\n",
    "gnb.fit(X_train, y_train)\n",
    "y_pred = gnb.predict(X_test)\n",
    "print(\"Accuracy: \", accuracy_score(y_test,y_pred))"
   ]
  },
  {
   "cell_type": "code",
   "execution_count": 18,
   "metadata": {},
   "outputs": [
    {
     "name": "stderr",
     "output_type": "stream",
     "text": [
      "C:\\Users\\Santiago\\anaconda3\\lib\\site-packages\\sklearn\\metrics\\_classification.py:1272: UndefinedMetricWarning: Recall and F-score are ill-defined and being set to 0.0 in labels with no true samples. Use `zero_division` parameter to control this behavior.\n",
      "  _warn_prf(average, modifier, msg_start, len(result))\n"
     ]
    },
    {
     "name": "stdout",
     "output_type": "stream",
     "text": [
      "              precision    recall  f1-score   support\n",
      "\n",
      "           0      1.000     0.978     0.989       682\n",
      "           1      0.034     0.667     0.065         9\n",
      "           2      0.000     0.000     0.000         1\n",
      "           3      0.111     0.941     0.199        17\n",
      "           4      0.000     0.000     0.000         6\n",
      "           5      0.141     1.000     0.247       359\n",
      "           6      0.000     0.000     0.000         8\n",
      "           7      0.008     0.250     0.016         4\n",
      "           8      0.000     0.000     0.000         2\n",
      "           9      0.962     0.999     0.980     31933\n",
      "          10      0.003     0.113     0.005        80\n",
      "          11      0.993     0.699     0.821     29037\n",
      "          12      0.000     0.000     0.000         1\n",
      "          13      0.077     1.000     0.143         1\n",
      "          14      0.269     0.986     0.422        69\n",
      "          15      0.084     0.086     0.085       302\n",
      "          16      0.000     0.000     0.000         1\n",
      "          17      0.998     0.824     0.902       505\n",
      "          18      1.000     0.999     1.000     84530\n",
      "          19      0.000     0.000     0.000         0\n",
      "          20      0.079     0.153     0.104       307\n",
      "          21      0.127     0.075     0.094       347\n",
      "          22      1.000     0.500     0.667         6\n",
      "\n",
      "    accuracy                          0.933    148207\n",
      "   macro avg      0.299     0.446     0.293    148207\n",
      "weighted avg      0.981     0.933     0.951    148207\n",
      "\n"
     ]
    }
   ],
   "source": [
    "print(classification_report(y_test, y_pred, digits=3))"
   ]
  }
 ],
 "metadata": {
  "kernelspec": {
   "display_name": "Python 3",
   "language": "python",
   "name": "python3"
  },
  "language_info": {
   "codemirror_mode": {
    "name": "ipython",
    "version": 3
   },
   "file_extension": ".py",
   "mimetype": "text/x-python",
   "name": "python",
   "nbconvert_exporter": "python",
   "pygments_lexer": "ipython3",
   "version": "3.8.3"
  }
 },
 "nbformat": 4,
 "nbformat_minor": 4
}
